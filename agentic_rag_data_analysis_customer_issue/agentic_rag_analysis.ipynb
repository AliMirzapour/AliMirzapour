{
 "cells": [
  {
   "cell_type": "code",
   "execution_count": null,
   "metadata": {},
   "outputs": [],
   "source": [
    "import os\n",
    "from crewai import Agent, Task, Crew, Process\n",
    "from crewai_tools import LlamaIndexTool\n",
    "from llama_index.core import SimpleDirectoryReader, VectorStoreIndex\n",
    "from llama_index.llms.openai import OpenAI"
   ]
  },
  {
   "cell_type": "code",
   "execution_count": 2,
   "metadata": {},
   "outputs": [],
   "source": [
    "reader = SimpleDirectoryReader(input_files=[\"CustomerSuppTicket_small.csv\"])\n",
    "docs = reader.load_data()"
   ]
  },
  {
   "cell_type": "code",
   "execution_count": 3,
   "metadata": {},
   "outputs": [],
   "source": [
    "# from google.colab import userdata\n",
    "openai_api_key = 'Open API KEY'\n",
    "os.environ['OPENAI_API_KEY']=openai_api_key"
   ]
  },
  {
   "cell_type": "code",
   "execution_count": null,
   "metadata": {},
   "outputs": [],
   "source": [
    "llm = OpenAI(model=\"gpt-4o\")\n",
    "#creates a VectorStoreIndex from a list of documents (docs)\n",
    "index = VectorStoreIndex.from_documents(docs)\n",
    "\n",
    "#The vector store is transformed into a query engine. \n",
    "#Setting similarity_top_k=5 limits the results to the top 5 documents that are most similar to the query, \n",
    "#llm specifies that the LLM should be used to process and refine the query results\n",
    "query_engine = index.as_query_engine(similarity_top_k=5, llm=llm)\n",
    "\n",
    "\n"
   ]
  },
  {
   "cell_type": "code",
   "execution_count": 5,
   "metadata": {},
   "outputs": [],
   "source": [
    "#Step7: Creating a Tool Based on the Defined Query Engine\n",
    "#===========================================================\n",
    "query_tool = LlamaIndexTool.from_query_engine(\n",
    "    query_engine,\n",
    "    name=\"Customer Support Query Tool\",\n",
    "    description=\"Use this tool to lookup the customer ticket data\"\n",
    ")"
   ]
  },
  {
   "cell_type": "code",
   "execution_count": 6,
   "metadata": {},
   "outputs": [],
   "source": [
    "researcher = Agent(\n",
    "      role=\"Customer Ticket Analyst\",\n",
    "      goal=\"Uncover insights about customer issues trends\",\n",
    "      backstory=\"\"\"You work at a Product Company.\n",
    "    Your goal is to understand customer issues patterns for each of the brands - 'GoPro' 'LG' 'Dell' 'Microsoft' 'Autodesk' 'Philips' 'Fitbit' 'Dyson'\n",
    " 'Nintendo' 'Nest' 'Sony' 'Xbox' 'Canon' 'HP' 'Amazon' 'Lenovo' 'Adobe'\n",
    " 'Google' 'PlayStation' 'Samsung' 'iPhone'.\"\"\",\n",
    "      verbose=True,\n",
    "      allow_delegation=False,\n",
    "      tools=[query_tool],\n",
    "  )\n",
    "  \n",
    "  \n",
    "writer = Agent(\n",
    "      role=\"Product Content Specialist\",\n",
    "      goal=\"\"\"Craft compelling content on customer issues trends for each of the brands - 'GoPro' 'LG' 'Dell' 'Microsoft' 'Autodesk' 'Philips' 'Fitbit' 'Dyson'\n",
    " 'Nintendo' 'Nest' 'Sony' 'Xbox' 'Canon' 'HP' 'Amazon' 'Lenovo' 'Adobe'\n",
    " 'Google' 'PlayStation' 'Samsung' 'iPhone'.\"\"\",\n",
    "      backstory=\"\"\"You are a renowned Content Specialist, known for your insightful and engaging articles.\n",
    "    You transform complex sales data into compelling narratives.\"\"\",\n",
    "      verbose=True,\n",
    "\n",
    "      allow_delegation=False,\n",
    ")"
   ]
  },
  {
   "cell_type": "code",
   "execution_count": 7,
   "metadata": {},
   "outputs": [],
   "source": [
    "task1 = Task(\n",
    "      description=\"\"\"Analyze the top customer issues issues for each of the brands - 'GoPro' 'LG' 'Dell' 'Microsoft' 'Autodesk' 'Philips' 'Fitbit' 'Dyson'\n",
    " 'Nintendo' 'Nest' 'Sony' 'Xbox' 'Canon' 'HP' 'Amazon' 'Lenovo' 'Adobe'\n",
    " 'Google' 'PlayStation' 'Samsung' 'iPhone'.\"\"\",\n",
    "      expected_output=\"Detailed Customer Issues mentioning NAME of Brand report with trends and insights\",\n",
    "      agent=researcher,\n",
    "  )\n",
    "\n",
    "task2 = Task(\n",
    "      description=\"\"\"Using the insights provided, develop an engaging blog\n",
    "    post that highlights the top-customer issues for each of the brands - 'GoPro' 'LG' 'Dell' 'Microsoft' 'Autodesk' 'Philips' 'Fitbit' 'Dyson'\n",
    " 'Nintendo' 'Nest' 'Sony' 'Xbox' 'Canon' 'HP' 'Amazon' 'Lenovo' 'Adobe'\n",
    " 'Google' 'PlayStation' 'Samsung' 'iPhone' and their pain points.\n",
    "\n",
    "    Your post should be informative yet accessible, catering to a casual audience.Ensure thet the post has NAME of the BRAND e.g. GoPro, FitBit etc.\n",
    "    Make it sound cool, avoid complex words.\"\"\",\n",
    "      expected_output=\"Full blog post in Bullet Points of customer issues. Ensure thet the Blog has NAME of the BRAND e.g. GoPro, FitBit etc.\",\n",
    "      agent=writer,\n",
    "  )"
   ]
  },
  {
   "cell_type": "code",
   "execution_count": null,
   "metadata": {},
   "outputs": [],
   "source": [
    "crew = Crew(\n",
    "      agents=[researcher,writer],\n",
    "      tasks=[task1,task2],\n",
    "      verbose=True,  # You can set it to 1 or 2 to different logging levels\n",
    "  )\n",
    "\n",
    "result = crew.kickoff()"
   ]
  }
 ],
 "metadata": {
  "kernelspec": {
   "display_name": "ali_rag_llms",
   "language": "python",
   "name": "python3"
  },
  "language_info": {
   "codemirror_mode": {
    "name": "ipython",
    "version": 3
   },
   "file_extension": ".py",
   "mimetype": "text/x-python",
   "name": "python",
   "nbconvert_exporter": "python",
   "pygments_lexer": "ipython3",
   "version": "3.10.14"
  }
 },
 "nbformat": 4,
 "nbformat_minor": 2
}
