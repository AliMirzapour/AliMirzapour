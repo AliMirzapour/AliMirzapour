{
 "cells": [
  {
   "cell_type": "code",
   "execution_count": 1,
   "metadata": {},
   "outputs": [
    {
     "data": {
      "text/plain": [
       "True"
      ]
     },
     "execution_count": 1,
     "metadata": {},
     "output_type": "execute_result"
    }
   ],
   "source": [
    "# imports\n",
    "from dotenv import load_dotenv\n",
    "\n",
    "# load in the .env variables\n",
    "load_dotenv()"
   ]
  },
  {
   "cell_type": "code",
   "execution_count": 2,
   "metadata": {},
   "outputs": [],
   "source": [
    "# Read in State of the Union Address File\n",
    "with open(\"RAG_Docs/2024_state_of_the_union.txt\") as f:\n",
    "    state_of_the_union = f.read()\n",
    "\n",
    "# Read in Mangione CBS News Article\n",
    "with open(\"RAG_Docs/2024_12_10_Mangione_CBS_Article.txt\") as f:\n",
    "    mangione_cbs_article = f.read()"
   ]
  },
  {
   "cell_type": "code",
   "execution_count": 3,
   "metadata": {},
   "outputs": [],
   "source": [
    "# Imports\n",
    "from langchain_text_splitters import CharacterTextSplitter\n",
    "\n",
    "# Initialize Text Splitter\n",
    "text_splitter = CharacterTextSplitter(\n",
    "    chunk_size=1000,\n",
    "    chunk_overlap=200,\n",
    "    length_function=len\n",
    ")\n",
    "\n",
    "# Create Documents (Chunks) From File\n",
    "state_of_the_union_texts = text_splitter.create_documents([state_of_the_union])\n",
    "mangione_cbs_article_texts = text_splitter.create_documents([mangione_cbs_article])\n"
   ]
  },
  {
   "cell_type": "code",
   "execution_count": 6,
   "metadata": {},
   "outputs": [],
   "source": [
    "# Add MetaData For Filter By File Name\n",
    "\n",
    "# 2024_state_of_the_union.txt\n",
    "for i, doc in enumerate(state_of_the_union_texts):\n",
    "    doc.metadata = {\n",
    "        'filename': '2024_state_of_the_union.txt',\n",
    "        'chunk': i + 1\n",
    "    }\n",
    "\n",
    "# 2024_12_10_Mangione_CBS_Article.txt\n",
    "for i, doc in enumerate(mangione_cbs_article_texts):\n",
    "    doc.metadata = {\n",
    "        'filename': '2024_12_10_Mangione_CBS_Article.txt',\n",
    "        'chunk': i + 1\n",
    "    }"
   ]
  },
  {
   "cell_type": "code",
   "execution_count": 7,
   "metadata": {},
   "outputs": [],
   "source": [
    "# Create ChromaDB Vector Store\n",
    "\n",
    "# Imports\n",
    "import chromadb\n",
    "from langchain_openai import OpenAIEmbeddings\n",
    "from langchain_chroma import Chroma\n",
    "\n",
    "# Create Client\n",
    "chroma_client = chromadb.Client()\n",
    "collection = chroma_client.get_or_create_collection(\"test_collection\")\n",
    "\n",
    "# Set Up Embeddings Model\n",
    "embeddings = OpenAIEmbeddings(model=\"text-embedding-3-large\")\n",
    "\n",
    "# Set Up ChromaDB As Vector Store\n",
    "vector_store = Chroma(\n",
    "    client=chroma_client,\n",
    "    collection_name=\"test_collection\",\n",
    "    embedding_function=embeddings,\n",
    ")"
   ]
  },
  {
   "cell_type": "code",
   "execution_count": 10,
   "metadata": {},
   "outputs": [],
   "source": [
    "# Add Documents to Vector Store\n",
    "\n",
    "# Concatenate Docs List\n",
    "documents = state_of_the_union_texts + mangione_cbs_article_texts\n",
    "\n",
    "# Add Documents to Vector Store\n",
    "ids = vector_store.add_documents(documents)"
   ]
  },
  {
   "cell_type": "code",
   "execution_count": 15,
   "metadata": {},
   "outputs": [
    {
     "name": "stdout",
     "output_type": "stream",
     "text": [
      "[Document(metadata={'chunk': 14, 'filename': '2024_12_10_Mangione_CBS_Article.txt'}, page_content='Mangione\\'s paternal grandparents, Nicholas and Mary Mangione, were real estate developers who purchased the Turf Valley Country Club in 1978 and Hayfields Country Club in Hunt Valley in 1986. \\n\\nThey founded Lorien Health Systems in 1977, and operated WCBM, a Baltimore radio station. Luigi Mangione volunteered at Lorien Health Systems in 2014 while in high school, according to his LinkedIn.\\n\\nMangione\\'s family said Monday in a statement, \"Unfortunately, we cannot comment on news reports regarding Luigi Mangione. We only know what we have read in the media. Our family is shocked and devastated by Luigi\\'s arrest. We offer our prayers to the family of Brian Thompson and we ask people to pray for all involved. We are devastated by this news.\"\\n\\n### He was valedictorian at the Gilman School in Baltimore'), Document(metadata={'chunk': 1, 'filename': '2024_12_10_Mangione_CBS_Article.txt'}, page_content=\"# What we know about Luigi Mangione, suspect charged in UnitedHealthcare CEO's killing\\n\\nBy Alex Sundby, Layla Ferris, Laura Doan, Emma Li, John Doyle\\nUpdated on: December 10, 2024 / 8:36 PM EST / CBS News\\n\\nLuigi Mangione has been charged with murder in last week's deadly shooting of UnitedHealthcare CEO Brian Thompson, according to court documents filed Monday night. The 26-year-old, who was identified earlier as a person of interest, was arrested on firearms and other charges in Pennsylvania after being spotted at a McDonald's in Altoona amid a massive manhunt for the shooter.\\n\\n### Here's what we know about Mangione:\\n\\nLuigi Mangione identified as suspect in CEO shooting\\nPolice said Tuesday it appears Mangione went to Pittsburgh and then Altoona after leaving New York and that he was dodging surveillance using a signal-blocking bag.\"), Document(metadata={'chunk': 15, 'filename': '2024_12_10_Mangione_CBS_Article.txt'}, page_content='### He was valedictorian at the Gilman School in Baltimore\\n\\nMangione graduated in 2016 from the Gilman School, an all-boys private school in Baltimore, according to his LinkedIn account. He was valedictorian for achieving the highest cumulative GPA over four years, according to his LinkedIn page. He captained the Gilman robotics team and also received a scholarship prize in 2014.\\n\\nJames Sandberg, a former classmate of Mangione, told CBS Baltimore that, while he wasn\\'t \"particularly close\" with Mangione, he knew him \"somewhat well\" and said, \"He was a nice kid.\"    \\n\\nSandberg said he was \"shocked\" after someone shared an article naming Mangione as a person of interest in the shooting.\\n\\n\"Thought it was maybe a different Luigi Mangione,\" Sandberg said.\\n\\nAnother former classmate, who wishes to remain anonymous out of respect for the Mangione family, told CBS News the two met in middle school and were close throughout high school.')]\n"
     ]
    },
    {
     "data": {
      "text/plain": [
       "[\"# What we know about Luigi Mangione, suspect charged in UnitedHealthcare CEO's killing\\n\\nBy Alex Sundby, Layla Ferris, Laura Doan, Emma Li, John Doyle\\nUpdated on: December 10, 2024 / 8:36 PM EST / CBS News\\n\\nLuigi Mangione has been charged with murder in last week's deadly shooting of UnitedHealthcare CEO Brian Thompson, according to court documents filed Monday night. The 26-year-old, who was identified earlier as a person of interest, was arrested on firearms and other charges in Pennsylvania after being spotted at a McDonald's in Altoona amid a massive manhunt for the shooter.\\n\\n### Here's what we know about Mangione:\\n\\nLuigi Mangione identified as suspect in CEO shooting\\nPolice said Tuesday it appears Mangione went to Pittsburgh and then Altoona after leaving New York and that he was dodging surveillance using a signal-blocking bag.\",\n",
       " '\"You can put your phone in there so we can\\'t track your phone,\" Joseph Kenny, chief of detectives for the New York City Police Department, told CBS New York. \"It doesn\\'t transmit a signal, it blocks the signal. In essence, it\\'s like if you wrapped your phone in aluminum foil and put it in a bag.\"\\n\\nBefore Mangione was officially identified as the suspect, NYPD Commissioner Jessica Tisch announced at a news conference Monday afternoon that he was believed to be a person of interest in the shooting.\\n\\nOfficers in Altoona arrested Mangione on unrelated charges at a McDonald\\'s there after a customer alerted an employee who called police, officials said. \"A Pennsylvania resident saw something early this morning at McDonald\\'s and said something to our local police,\" Pennsylvania Gov. Josh Shapiro said, praising the resident as \"a hero.\"\\n\\nThe officers questioned Mangione, who was acting suspiciously, Tisch said.',\n",
       " 'The officers questioned Mangione, who was acting suspiciously, Tisch said.\\n\\nAccording to court documents, the Altoona officers found Mangione sitting at a table in the back of the McDonald\\'s wearing a blue medical mask and looking at a laptop with a backpack on the floor near the table. When the officers asked him to pull the mask down, they recognized him from photos released to the media.\\n\\n\"My partner and I recognized him immediately,\" Altoona Patrolman Tyler Frye told reporters during a news conference Monday night. \"Just from what we saw in the media, with photos, videos, we just didn\\'t even think twice about it, we knew that was our guy.\"\\n\\nMangione was carrying multiple fraudulent IDs and a U.S. passport, Tisch said. One of the IDs matched the fake New Jersey ID that the shooting suspect used to check into a Manhattan hostel before the shooting, the commissioner said.',\n",
       " 'When the Altoona officers asked Mangione for his ID at the McDonald\\'s, he gave them the New Jersey ID, according to an affidavit submitted with a criminal complaint. When one officer was checking the ID with dispatchers, the other asked Mangione if he had been to New York recently, and Mangione \"became quiet and started to shake,\" according to the affidavit.\\n\\n\"That really invoked a physical reaction from the suspect,\" Altoona Deputy Police Chief Derek Swope told reporters Monday night. \"He became visibly nervous, kind of shaking at that question, and he didn\\'t really answer it directly, so that statement alone really said a lot, and the suspect didn\\'t have to say a lot after that question to show that, you know, he was very nervous at that point.\"\\n\\nMangione provided his real name after he was told he would be arrested if he lied about his identity, according to the affidavit. When an officer asked Mangione why he lied about his name, he allegedly said, \"I clearly shouldn\\'t have.\"',\n",
       " \"Officers found a gun and a suppressor that were consistent with the weapon used in the Dec. 4 shooting of Thompson, Tisch said. Police said the gun found in his backpack appeared to be a 3D-printed ghost gun, with a loaded Glock magazine with six 9 mm full metal jacket rounds. Clothing and a mask consistent with those of the suspect in the case were also recovered, police said.\\n\\nMangione was charged Monday evening with five counts in Pennsylvania: forgery, firearms not to be carried without a license, tampering with records or identification, possessing instruments of crime, and false identification to law enforcement.\\n\\nPennsylvania State Police Lt. Col. George Bivens said Mangione was initially cooperative and then stopped cooperating with investigators. He wasn't aware of Mangione having a criminal history.\\n\\n### Held without bail at hearing, fighting extradition\",\n",
       " '### Held without bail at hearing, fighting extradition\\n\\nAt an extradition proceeding on Tuesday afternoon in Pennsylvania, Mangione was denied bail. He is contesting extradition, and Pennsylvania has 30 days to get a warrant from New York Gov. Kathy Hochul to start the process.\\n\\nA defense attorney for Mangione, Thomas Dickey, argued that the state of New York did not provide the defense with the official second-degree murder charges in documents they were given and now the defense has 14 days to request a writ of habeas corpus for those. In New York, the office of Manhattan District Attorney Alvin Bragg confirmed to CBS News that prosecutors will seek a governor\\'s warrant to secure Mangione\\'s extradition to Manhattan.\\n\\nAs Mangione entered the Blair County Courthouse ahead of Tuesday\\'s proceedings, he was aggressive and had to be contained, shouting that what was happening to him was \"an insult to the intelligence of the American people.\"',\n",
       " 'At his office Tuesday evening, Dickey told reporters he hadn\\'t seen video footage of Mangione\\'s outburst but said, \"Hopefully, there won\\'t be any more of that.\"\\n\\nDickey said he was hired to represent Mangione and not appointed to the case. He wouldn\\'t identify who hired him, and he wouldn\\'t comment on what Mangione has said to him.\\n\\nDickey said Mangione will plead not guilty to the Pennsylvania charges, and said he\\'d advise Mangione to enter the same plea to the New York charges. Asked to clarify what specific charges Mangione would plead not guilty to, Dickey said, \"Every charge.\"\\n\\n\"Remember — and this is not just a small thing — the fundamental concept of American justice is the presumption of innocence and until you\\'re proven guilty beyond a reasonable doubt, and I\\'ve seen zero evidence at this point,\" Dickey said.\\n\\n### Police say Mangione had handwritten note expressing views',\n",
       " '### Police say Mangione had handwritten note expressing views\\n\\nA handwritten document that \"speaks to both his motivation and mindset\" was also recovered from Mangione when he was apprehended by police, according to Tisch. \\n\\nIn the three-page note, Mangione attempted to justify his actions, police said. NYPD sources referred to the notes as a claim of responsibility. \\n\\nMangione wrote that the U.S. had \"most expensive healthcare system in the world\" but lamented that the country \"ranks #42 in life expectancy,\" according to NYPD sources. Intelligence officers within the NYPD believe Mangione\\'s grievances about UnitedHealthcare and other health insurance companies motivated the murder, NYPD sources said.',\n",
       " 'Mangione also referred to corporations as \"mafiosa [that] have gotten too powerful,\" and said such companies abuse the United States \"for immense profit.\" He wrote that others had shone a light on corporations\\' \"corruption and greed\" in the past and claimed that he was \"the first to face it with such brutal honesty.\" \\n\\nNYPD intelligence officers believe Mangione might have been inspired by \"Unabomber\" Ted Kaczynski, with the handwritten note reflecting a similar mindset. \\n\\nKenny told reporters that officials \"don\\'t think that there\\'s any specific threats to other people mentioned in that document,\" but NYPD sources said police are concerned about the risk of extremists viewing Mangione as an example to follow. Shapiro expressed this concern in his Monday remarks, and strongly condemned both the murder and those who celebrated it online. \\n\\n\"The suspect is a coward, not a hero,\" Shapiro said. \\n\\n### He worked at TrueCar, has Ivy League degree',\n",
       " '\"The suspect is a coward, not a hero,\" Shapiro said. \\n\\n### He worked at TrueCar, has Ivy League degree\\n\\nAccording to his LinkedIn account, Mangione worked as a data engineer at the car-buying website TrueCar. But a company spokesperson told CBS News that Mangione hasn\\'t worked there since 2023.\\n\\nMangione graduated from the University of Pennsylvania in 2020, a Penn spokesperson confirmed to CBS News. He received a Master of Science in engineering with a major in computer and information science, and a Bachelor of Science in engineering, majoring in computer science with a minor in mathematics, the spokesperson confirmed.\\n\\nWhile at Penn, he worked as a teaching assistant and founded a video game development club, according to his LinkedIn account.\\n\\nAt Stanford University in California, Mangione was a head counselor for a pre-collegiate studies program during the summer of 2019, the university said in a statement to CBS News.\\n\\n### He has ties to Honolulu',\n",
       " '### He has ties to Honolulu\\n\\nMangione\\'s last known address was in Honolulu, Hawaii, Kenny told reporters. According to an Instagram video posted by the Surfbreak coliving community, Mangione had been living there at some point. \\n\\n\"We are aware that Luigi Mangione was a resident at the Surfbreak co-living\\'s Honolulu location in 2022,\" Surfbreak told CBS News in a statement. \"His alleged actions do not reflect the individual we knew, the values of Surfbreak as an organization, or our community. Reasonable people may disagree but violence is never the answer.\"  \\n\\nSarah Nehemiah, who knew Mangione during his time living at a co-living/working space called Surfbreak in Honolulu, said he left the community in April 2022 due to a lifelong back injury exacerbated by physical activity on the island.',\n",
       " '\"Mangione lived at Surfbreak from January 2022 until April of that year. It was our understanding that he left due to a lifelong back injury that was exacerbated by surfing and hiking. To our knowledge, nearly all members of Surfbreak from his tenure lost contact after he left. To our knowledge, he did return to Hawaii briefly in early 2023 and started a book club. Several members left due to discomfort in book choices,\" said Nehemiah, who says she is now acting as a spokesperson for several members of the community.\\n\\nA second source familiar with Mangione\\'s stay at Surfbreak said back pain was a major theme of his life at that time. He tried to surf in Hawaii and was not able to. This appeared to be a source of pain and frustration for him, said the source.',\n",
       " \"The background image on Mangione's X account shows an X-ray of a spine with hardware in it, reflective of previous surgery. It is not known if this is an X-ray of Mangione's spine. An orthopedist told CBS News that the image appeared to show a hardware fusion likely for spondylolisthesis.\\n\\n### He's related to a prominent Maryland family\\n\\nMangione was born and raised in Maryland, Kenny said. He is related to a prominent Maryland family that owns country clubs, health care facilities and real estate companies, CBS News Baltimore reported. He's also a cousin of Maryland state Delegate Nino Mangione, who represents parts of Baltimore County.\\n\\nMangione's paternal grandparents, Nicholas and Mary Mangione, were real estate developers who purchased the Turf Valley Country Club in 1978 and Hayfields Country Club in Hunt Valley in 1986.\",\n",
       " 'Mangione\\'s paternal grandparents, Nicholas and Mary Mangione, were real estate developers who purchased the Turf Valley Country Club in 1978 and Hayfields Country Club in Hunt Valley in 1986. \\n\\nThey founded Lorien Health Systems in 1977, and operated WCBM, a Baltimore radio station. Luigi Mangione volunteered at Lorien Health Systems in 2014 while in high school, according to his LinkedIn.\\n\\nMangione\\'s family said Monday in a statement, \"Unfortunately, we cannot comment on news reports regarding Luigi Mangione. We only know what we have read in the media. Our family is shocked and devastated by Luigi\\'s arrest. We offer our prayers to the family of Brian Thompson and we ask people to pray for all involved. We are devastated by this news.\"\\n\\n### He was valedictorian at the Gilman School in Baltimore',\n",
       " '### He was valedictorian at the Gilman School in Baltimore\\n\\nMangione graduated in 2016 from the Gilman School, an all-boys private school in Baltimore, according to his LinkedIn account. He was valedictorian for achieving the highest cumulative GPA over four years, according to his LinkedIn page. He captained the Gilman robotics team and also received a scholarship prize in 2014.\\n\\nJames Sandberg, a former classmate of Mangione, told CBS Baltimore that, while he wasn\\'t \"particularly close\" with Mangione, he knew him \"somewhat well\" and said, \"He was a nice kid.\"    \\n\\nSandberg said he was \"shocked\" after someone shared an article naming Mangione as a person of interest in the shooting.\\n\\n\"Thought it was maybe a different Luigi Mangione,\" Sandberg said.\\n\\nAnother former classmate, who wishes to remain anonymous out of respect for the Mangione family, told CBS News the two met in middle school and were close throughout high school.',\n",
       " 'Another former classmate, who wishes to remain anonymous out of respect for the Mangione family, told CBS News the two met in middle school and were close throughout high school.\\n\\n\"He was a nice guy, a smart guy. I wouldn\\'t characterize him as introverted or extroverted. He didn\\'t have any enemies,\" the former classmate said. \"He was our valedictorian for a reason.\"\\n\\nWhen they heard about the news of Mangione being a person of interest, the former classmate said they felt sympathetic to the situation.\\n\\n\"I don\\'t think he is a crazy person,\" the former classmate said. \"I hope that there\\'s a public trial and he gets the chance to explain how all of this happened in court.\" \\n\\nThe former classmate said the two lost touch after high school, but they remember Mangione being a \"good guy.\"\\n\\n### People sent him messages on social media before his arrest',\n",
       " 'The former classmate said the two lost touch after high school, but they remember Mangione being a \"good guy.\"\\n\\n### People sent him messages on social media before his arrest\\n\\nIn the months leading up to Mangione\\'s arrest, posts tagging his account on the social media platform X indicate his friends may have been trying to contact him.\\n\\n\"Nobody has heard from you in months,\" one post from October read.\\n\\nAnother post from July read, \"I don\\'t know if you are okay or just in a super isolated place and have no service. But I haven\\'t heard from you in months.\"\\n\\n### He had an account on Goodreads\\n\\nOn the Goodreads website, Mangione\\'s account contained a four-star rating and review of \"Industrial Society and Its Future,\" written by Theodore John Kaczynski, also known as the Unabomber. Two health care-related books are on his read tab from 2022, including \"Crooked: Outwitting the Back Pain Industry and Getting on the Road to Recovery\" and \"Back Mechanic.\"',\n",
       " 'Mangione\\'s X account reposted the quote, \"It is no measure of health to be well-adjusted to a profoundly sick society,\" by J. Krishnamurti at least twice, most recently in January 2024.']"
      ]
     },
     "execution_count": 15,
     "metadata": {},
     "output_type": "execute_result"
    }
   ],
   "source": [
    "# TEST SIMILARITY SEARCH\n",
    "test_search_result = vector_store.similarity_search(\n",
    "    \"Who is Luigi Magione?\",\n",
    "    k=3\n",
    ")\n",
    "\n",
    "# Print Results\n",
    "print(test_search_result)\n",
    "\n",
    "\n",
    "# TEST FILTER SEARCH BY FILE NAME\n",
    "vector_store.get(\n",
    "    where={'filename': \"2024_12_10_Mangione_CBS_Article.txt\"}\n",
    ")['documents']\n",
    "\n"
   ]
  },
  {
   "cell_type": "code",
   "execution_count": null,
   "metadata": {},
   "outputs": [],
   "source": []
  },
  {
   "cell_type": "code",
   "execution_count": null,
   "metadata": {},
   "outputs": [],
   "source": []
  }
 ],
 "metadata": {
  "kernelspec": {
   "display_name": "ali_rag_llms",
   "language": "python",
   "name": "python3"
  },
  "language_info": {
   "codemirror_mode": {
    "name": "ipython",
    "version": 3
   },
   "file_extension": ".py",
   "mimetype": "text/x-python",
   "name": "python",
   "nbconvert_exporter": "python",
   "pygments_lexer": "ipython3",
   "version": "3.10.14"
  }
 },
 "nbformat": 4,
 "nbformat_minor": 2
}
