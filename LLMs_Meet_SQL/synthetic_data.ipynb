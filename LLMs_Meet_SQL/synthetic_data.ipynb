{
 "cells": [
  {
   "cell_type": "code",
   "execution_count": 11,
   "metadata": {},
   "outputs": [],
   "source": [
    "#The code for loading data into the customer table\n",
    "#Customer Table\n",
    "import mysql.connector\n",
    "from faker import Faker\n",
    "import random\n",
    "from datetime import timedelta\n",
    "\n"
   ]
  },
  {
   "cell_type": "code",
   "execution_count": 4,
   "metadata": {},
   "outputs": [],
   "source": [
    "# Initialize Faker\n",
    "fake = Faker()\n",
    "\n",
    "# Connect to MySQL\n",
    "conn = mysql.connector.connect(\n",
    "  host=\"localhost\",\n",
    "  user=\"root\",\n",
    "  password=\"Chicago_2145\",\n",
    "  database=\"SalesOrderSchema\"\n",
    ")\n",
    "\n",
    "cursor = conn.cursor()\n",
    "\n",
    "# Generate and insert data\n",
    "for _ in range(100):  # Let's say we want to generate 100 records\n",
    "    first_name = fake.first_name()\n",
    "    last_name = fake.last_name()\n",
    "    email = fake.email()\n",
    "    phone = fake.phone_number()\n",
    "    if len(phone) > 20:  # Assuming the 'Phone' column is VARCHAR(20)\n",
    "        phone = phone[:20]  # Truncate phone number to fit into the column\n",
    "    address = fake.address()\n",
    "    customer_since = fake.date_between(start_date='-5y', end_date='today')\n",
    "    is_active = fake.boolean()\n",
    "    \n",
    "    # Insert customer data\n",
    "    cursor.execute(\"\"\"\n",
    "        INSERT INTO Customer (FirstName, LastName, Email, Phone, BillingAddress, ShippingAddress, CustomerSince, IsActive)\n",
    "        VALUES (%s, %s, %s, %s, %s, %s, %s, %s)\n",
    "    \"\"\", (first_name, last_name, email, phone, address, address, customer_since, is_active))\n",
    "\n",
    "# Commit the transaction\n",
    "conn.commit()\n",
    "\n",
    "# Close the cursor and connection\n",
    "cursor.close()\n",
    "conn.close()"
   ]
  },
  {
   "cell_type": "markdown",
   "metadata": {},
   "source": [
    "Employee Table: Populate using the Faker"
   ]
  },
  {
   "cell_type": "code",
   "execution_count": null,
   "metadata": {},
   "outputs": [
    {
     "name": "stdout",
     "output_type": "stream",
     "text": [
      "1000 employee records inserted successfully.\n"
     ]
    }
   ],
   "source": [
    "\n",
    "# Initialize Faker\n",
    "fake = Faker()\n",
    "\n",
    "# Connect to MySQL\n",
    "conn = mysql.connector.connect(\n",
    "  host=\"localhost\",\n",
    "  user=\"root\",\n",
    "  password=\"Chicago_2145\",\n",
    "  database=\"SalesOrderSchema\"\n",
    ")\n",
    "\n",
    "cursor = conn.cursor()\n",
    "\n",
    "# Generate and insert 1000 employee records\n",
    "for _ in range(1000):\n",
    "    first_name = fake.first_name()\n",
    "    last_name = fake.last_name()\n",
    "    email = fake.email()\n",
    "    phone = fake.phone_number()\n",
    "    if len(phone) > 20:  # Truncate phone number if necessary\n",
    "        phone = phone[:20]\n",
    "    hire_date = fake.date_between(start_date='-5y', end_date='today')\n",
    "    position = fake.job()\n",
    "    salary = round(fake.random_number(digits=5), 2)  # Generate a 5 digit salary\n",
    "    \n",
    "    # Insert employee data\n",
    "    cursor.execute(\"\"\"\n",
    "        INSERT INTO Employee (FirstName, LastName, Email, Phone, HireDate, Position, Salary)\n",
    "        VALUES (%s, %s, %s, %s, %s, %s, %s)\n",
    "    \"\"\", (first_name, last_name, email, phone, hire_date, position, salary))\n",
    "\n",
    "# Commit the transaction\n",
    "conn.commit()\n",
    "\n",
    "# Close the cursor and connection\n",
    "cursor.close()\n",
    "conn.close()\n",
    "\n",
    "print(\"1000 employee records inserted successfully.\")"
   ]
  },
  {
   "cell_type": "code",
   "execution_count": 7,
   "metadata": {},
   "outputs": [
    {
     "name": "stdout",
     "output_type": "stream",
     "text": [
      "Products inserted successfully.\n"
     ]
    }
   ],
   "source": [
    "#Product Table\n",
    "\n",
    "# Initialize Faker\n",
    "fake = Faker()\n",
    "\n",
    "# Connect to MySQL\n",
    "conn = mysql.connector.connect(\n",
    "  host=\"localhost\",\n",
    "  user=\"root\",\n",
    "  password=\"Chicago_2145\",\n",
    "  database=\"SalesOrderSchema\"\n",
    ")\n",
    "cursor = conn.cursor()\n",
    "\n",
    "# Generate and insert data into the Product table\n",
    "for _ in range(1000):  # Generate 1000 product records\n",
    "    product_name = fake.word().capitalize() + \" \" + fake.word().capitalize()\n",
    "    description = fake.sentence(nb_words=10)\n",
    "    unit_price = round(random.uniform(10, 500), 2)  # Random price between $10 and $500\n",
    "    stock_quantity = random.randint(10, 1000)  # Random stock quantity between 10 and 1000\n",
    "    reorder_level = random.randint(5, 50)  # Random reorder level between 5 and 50\n",
    "    discontinued = random.choice([0, 1])  # Randomly choose between 0 (false) and 1 (true)\n",
    "\n",
    "    # Insert product data\n",
    "    cursor.execute(\"\"\"\n",
    "        INSERT INTO Product (ProductName, Description, UnitPrice, StockQuantity, ReorderLevel, Discontinued)\n",
    "        VALUES (%s, %s, %s, %s, %s, %s)\n",
    "    \"\"\", (product_name, description, unit_price, stock_quantity, reorder_level, discontinued))\n",
    "\n",
    "# Commit the transaction\n",
    "conn.commit()\n",
    "\n",
    "# Close the cursor and connection\n",
    "cursor.close()\n",
    "conn.close()\n",
    "\n",
    "print(\"Products inserted successfully.\")"
   ]
  },
  {
   "cell_type": "code",
   "execution_count": 9,
   "metadata": {},
   "outputs": [
    {
     "name": "stdout",
     "output_type": "stream",
     "text": [
      "Suppliers inserted successfully.\n"
     ]
    }
   ],
   "source": [
    "#Supplier Table\n",
    "\n",
    "# Initialize Faker\n",
    "fake = Faker()\n",
    "\n",
    "# Connect to MySQL\n",
    "conn = mysql.connector.connect(\n",
    "  host=\"localhost\",\n",
    "  user=\"root\",\n",
    "  password=\"Chicago_2145\",\n",
    "  database=\"SalesOrderSchema\"\n",
    ")\n",
    "cursor = conn.cursor()\n",
    "\n",
    "# Generate and insert data into the Supplier table\n",
    "for _ in range(1000):  # Assuming you want to insert 1000 records\n",
    "    company_name = fake.company()\n",
    "    contact_name = fake.name()\n",
    "    contact_title = fake.job()\n",
    "    # Ensure ContactTitle does not exceed the column's max length, e.g., VARCHAR(50)\n",
    "    contact_title = contact_title[:50] if len(contact_title) > 50 else contact_title\n",
    "    address = fake.address().replace('\\n', ', ')  # Replace newlines with commas for address\n",
    "    phone = fake.phone_number()\n",
    "    # Ensure phone does not exceed the column's max length, e.g., VARCHAR(20)\n",
    "    phone = phone[:20] if len(phone) > 20 else phone\n",
    "    email = fake.email()\n",
    "\n",
    "    # Insert supplier data\n",
    "    cursor.execute(\"\"\"\n",
    "        INSERT INTO Supplier (CompanyName, ContactName, ContactTitle, Address, Phone, Email)\n",
    "        VALUES (%s, %s, %s, %s, %s, %s)\n",
    "    \"\"\", (company_name, contact_name, contact_title, address, phone, email))\n",
    "\n",
    "# Commit the transaction\n",
    "conn.commit()\n",
    "\n",
    "# Close the cursor and connection\n",
    "cursor.close()\n",
    "conn.close()\n",
    "\n",
    "print(\"Suppliers inserted successfully.\")"
   ]
  },
  {
   "cell_type": "code",
   "execution_count": 13,
   "metadata": {},
   "outputs": [],
   "source": [
    "#Sales Order Table\n",
    "\n",
    "fake = Faker()\n",
    "\n",
    "conn = mysql.connector.connect(\n",
    "  host=\"localhost\",\n",
    "  user=\"root\",\n",
    "  password=\"Chicago_2145\",\n",
    "  database=\"SalesOrderSchema\"\n",
    ")\n",
    "cursor = conn.cursor(buffered=True)\n",
    "\n",
    "# Fetch customer IDs\n",
    "cursor.execute(\"SELECT CustomerID FROM Customer\")\n",
    "customer_ids = [id[0] for id in cursor.fetchall()]\n",
    "\n",
    "# Insert data into SalesOrder\n",
    "for _ in range(1000):  # Let's say we want to generate 1000 sales orders\n",
    "    customer_id = random.choice(customer_ids)\n",
    "    order_date = fake.date_between(start_date='-2y', end_date='today')\n",
    "    required_date = order_date + timedelta(days=random.randint(1, 30))\n",
    "    shipped_date = order_date + timedelta(days=random.randint(1, 30)) if random.choice([True, False]) else None\n",
    "    status = random.choice(['Pending', 'Completed', 'Shipped'])\n",
    "    is_paid = random.choice([True, False])\n",
    "\n",
    "    cursor.execute(\"\"\"\n",
    "        INSERT INTO SalesOrder (CustomerID, OrderDate, RequiredDate, ShippedDate, Status, IsPaid)\n",
    "        VALUES (%s, %s, %s, %s, %s, %s)\n",
    "    \"\"\", (customer_id, order_date, required_date, shipped_date, status, is_paid))\n",
    "\n",
    "conn.commit()\n"
   ]
  },
  {
   "cell_type": "code",
   "execution_count": 14,
   "metadata": {},
   "outputs": [],
   "source": [
    "#Sales Order Line Item\n",
    "# Fetch product IDs\n",
    "cursor.execute(\"SELECT ProductID FROM Product\")\n",
    "product_ids = [id[0] for id in cursor.fetchall()]\n",
    "\n",
    "# Fetch sales order IDs\n",
    "cursor.execute(\"SELECT SalesOrderID FROM SalesOrder\")\n",
    "sales_order_ids = [id[0] for id in cursor.fetchall()]\n",
    "\n",
    "# Insert data into LineItem\n",
    "for _ in range(5000):  # Assuming multiple line items per order\n",
    "    sales_order_id = random.choice(sales_order_ids)\n",
    "    product_id = random.choice(product_ids)\n",
    "    quantity = random.randint(1, 10)\n",
    "    unit_price = round(random.uniform(10, 100), 2)  # Assuming you have this info or fetch it from Product table\n",
    "    total_price = quantity * unit_price\n",
    "\n",
    "    cursor.execute(\"\"\"\n",
    "        INSERT INTO LineItem (SalesOrderID, ProductID, Quantity, UnitPrice, TotalPrice)\n",
    "        VALUES (%s, %s, %s, %s, %s)\n",
    "    \"\"\", (sales_order_id, product_id, quantity, unit_price, total_price))\n",
    "\n",
    "conn.commit()"
   ]
  },
  {
   "cell_type": "code",
   "execution_count": 15,
   "metadata": {},
   "outputs": [],
   "source": [
    "cursor.close()\n",
    "conn.close()"
   ]
  },
  {
   "cell_type": "code",
   "execution_count": 16,
   "metadata": {},
   "outputs": [],
   "source": [
    "#Inventory Table\n",
    "# Initialize Faker\n",
    "fake = Faker()\n",
    "\n",
    "# Connect to MySQL\n",
    "conn = mysql.connector.connect(\n",
    "  host=\"localhost\",\n",
    "  user=\"root\",\n",
    "  password=\"Chicago_2145\",\n",
    "  database=\"SalesOrderSchema\"\n",
    ")\n",
    "cursor = conn.cursor()\n",
    "\n",
    "# Fetch Product IDs\n",
    "cursor.execute(\"SELECT ProductID FROM Product\")\n",
    "product_ids = [row[0] for row in cursor.fetchall()]"
   ]
  },
  {
   "cell_type": "code",
   "execution_count": 17,
   "metadata": {},
   "outputs": [
    {
     "name": "stdout",
     "output_type": "stream",
     "text": [
      "Inventory logs inserted successfully.\n"
     ]
    }
   ],
   "source": [
    "# Assuming you want to insert 1000 inventory log records\n",
    "for _ in range(1000):\n",
    "    product_id = random.choice(product_ids)  # Randomly select a product ID\n",
    "    change_date = fake.date_between(start_date=\"-1y\", end_date=\"today\")\n",
    "    quantity_change = random.randint(-100, 100)  # Assuming inventory can increase or decrease\n",
    "    notes = \"Inventory \" + (\"increased\" if quantity_change > 0 else \"decreased\")\n",
    "\n",
    "    # Insert inventory log data\n",
    "    cursor.execute(\"\"\"\n",
    "        INSERT INTO InventoryLog (ProductID, ChangeDate, QuantityChange, Notes)\n",
    "        VALUES (%s, %s, %s, %s)\n",
    "    \"\"\", (product_id, change_date, quantity_change, notes))\n",
    "\n",
    "# Commit the transaction\n",
    "conn.commit()\n",
    "\n",
    "# Close the cursor and connection\n",
    "cursor.close()\n",
    "conn.close()\n",
    "\n",
    "print(\"Inventory logs inserted successfully.\")"
   ]
  },
  {
   "cell_type": "code",
   "execution_count": null,
   "metadata": {},
   "outputs": [],
   "source": []
  }
 ],
 "metadata": {
  "kernelspec": {
   "display_name": "python-3.10",
   "language": "python",
   "name": "python3"
  },
  "language_info": {
   "codemirror_mode": {
    "name": "ipython",
    "version": 3
   },
   "file_extension": ".py",
   "mimetype": "text/x-python",
   "name": "python",
   "nbconvert_exporter": "python",
   "pygments_lexer": "ipython3",
   "version": "3.10.16"
  }
 },
 "nbformat": 4,
 "nbformat_minor": 2
}
