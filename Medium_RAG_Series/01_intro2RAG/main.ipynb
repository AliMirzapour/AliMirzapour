{
 "cells": [
  {
   "cell_type": "code",
   "execution_count": 1,
   "metadata": {},
   "outputs": [
    {
     "data": {
      "text/plain": [
       "True"
      ]
     },
     "execution_count": 1,
     "metadata": {},
     "output_type": "execute_result"
    }
   ],
   "source": [
    "# imports\n",
    "from dotenv import load_dotenv\n",
    "\n",
    "# load in the .env variables\n",
    "load_dotenv()"
   ]
  },
  {
   "cell_type": "code",
   "execution_count": 6,
   "metadata": {},
   "outputs": [],
   "source": [
    "# imports\n",
    "from langchain_text_splitters import CharacterTextSplitter\n",
    "\n",
    "# Read in State of the Union Address File\n",
    "with open(\"/Users/homesweethome/workspace/ali_space/AliMirzapour/Medium_RAG_Series/RAG_Docs/2024_state_of_the_union.txt\") as f:\n",
    "    state_of_the_union = f.read()\n",
    "\n",
    "# Initialize Text Splitter\n",
    "text_splitter = CharacterTextSplitter(\n",
    "    chunk_size=1000,\n",
    "    chunk_overlap=200,\n",
    "    length_function=len\n",
    ")\n",
    "\n",
    "# Create Documents (Chunks) From File\n",
    "texts = text_splitter.create_documents([state_of_the_union])"
   ]
  },
  {
   "cell_type": "code",
   "execution_count": 7,
   "metadata": {},
   "outputs": [],
   "source": [
    "# imports\n",
    "from langchain_chroma import Chroma\n",
    "from langchain_openai import OpenAIEmbeddings\n",
    "\n",
    "# Get Embeddings Model\n",
    "embeddings = OpenAIEmbeddings(model=\"text-embedding-3-large\")\n",
    "\n",
    "# Initialize ChromaDB as Vector Store\n",
    "vector_store = Chroma(\n",
    "    collection_name=\"test_collection\",\n",
    "    embedding_function=embeddings\n",
    ")"
   ]
  },
  {
   "cell_type": "code",
   "execution_count": 8,
   "metadata": {},
   "outputs": [],
   "source": [
    "# Save Document Chunks to Vector Store\n",
    "ids = vector_store.add_documents(texts)"
   ]
  },
  {
   "cell_type": "code",
   "execution_count": 9,
   "metadata": {},
   "outputs": [
    {
     "name": "stdout",
     "output_type": "stream",
     "text": [
      "* And yes, my purpose tonight is to both wake up this Congress, and alert the American people that this is no ordinary moment either. \n",
      "\n",
      "Not since President Lincoln and the Civil War have freedom and democracy been under assault here at home as they are today. \n",
      "\n",
      "What makes our moment rare is that freedom and democracy are under attack, both at home and overseas, at the very same time. \n",
      "\n",
      "Overseas, Putin of Russia is on the march, invading Ukraine and sowing chaos throughout Europe and beyond. \n",
      "\n",
      "If anybody in this room thinks Putin will stop at Ukraine, I assure you, he will not. \n",
      "\n",
      "But Ukraine can stop Putin if we stand with Ukraine and provide the weapons it needs to defend itself. That is all Ukraine is asking. They are not asking for American soldiers. \n",
      "\n",
      "In fact, there are no American soldiers at war in Ukraine. And I am determined to keep it that way. \n",
      "\n",
      "But now assistance for Ukraine is being blocked by those who want us to walk away from our leadership in the world. [{}]\n",
      "\n",
      "\n",
      "* But now assistance for Ukraine is being blocked by those who want us to walk away from our leadership in the world. \n",
      "\n",
      "It wasn’t that long ago when a Republican President, Ronald Reagan, thundered, “Mr. Gorbachev, tear down this wall.” \n",
      "\n",
      "Now, my predecessor, a former Republican President, tells Putin, “Do whatever the hell you want.” \n",
      "\n",
      "A former American President actually said that, bowing down to a Russian leader. \n",
      "\n",
      "It’s outrageous. It’s dangerous. It’s unacceptable. \n",
      "\n",
      "America is a founding member of NATO the military alliance of democratic nations created after World War II to prevent war and keep the peace.  \n",
      "\n",
      "Today, we’ve made NATO stronger than ever. \n",
      "\n",
      "We welcomed Finland to the Alliance last year, and just this morning, Sweden officially joined NATO, and their Prime Minister is here tonight. \n",
      "\n",
      "Mr. Prime Minister, welcome to NATO, the strongest military alliance the world has ever known. [{}]\n",
      "\n",
      "\n"
     ]
    }
   ],
   "source": [
    "# Query the Vector Store\n",
    "results = vector_store.similarity_search(\n",
    "    'Who invaded Ukraine?',\n",
    "    k=2\n",
    ")\n",
    "\n",
    "# Print Resulting Chunks\n",
    "for res in results:\n",
    "    print(f\"* {res.page_content} [{res.metadata}]\\n\\n\")"
   ]
  },
  {
   "cell_type": "markdown",
   "metadata": {},
   "source": [
    "**************Naive RAG Flow"
   ]
  },
  {
   "cell_type": "code",
   "execution_count": 10,
   "metadata": {},
   "outputs": [],
   "source": [
    "# imports\n",
    "from langchain_openai import ChatOpenAI\n",
    "\n",
    "# Set Chroma Vector Store as the Retriever\n",
    "retriever = vector_store.as_retriever()\n",
    "\n",
    "# Initialize the LLM instance\n",
    "llm = ChatOpenAI(model=\"gpt-4o-mini\")"
   ]
  },
  {
   "cell_type": "code",
   "execution_count": 11,
   "metadata": {},
   "outputs": [],
   "source": [
    "# Create Document Parsing Function to String\n",
    "def format_docs(docs):\n",
    "    return \"\\n\\n\".join(doc.page_content for doc in docs)\n"
   ]
  },
  {
   "cell_type": "markdown",
   "metadata": {},
   "source": []
  },
  {
   "cell_type": "code",
   "execution_count": 12,
   "metadata": {},
   "outputs": [],
   "source": [
    "# imports\n",
    "from langchain_core.prompts import PromptTemplate\n",
    "\n",
    "# Create the Prompt Template\n",
    "prompt_template = \"\"\"Use the context provided to answer \n",
    "the user's question below. If you do not know the answer \n",
    "based on the context provided, tell the user that you do \n",
    "not know the answer to their question based on the context\n",
    "provided and that you are sorry.\n",
    "\n",
    "context: {context}\n",
    "\n",
    "question: {query}\n",
    "\n",
    "answer: \"\"\"\n",
    "\n",
    "# Create Prompt Instance from template\n",
    "custom_rag_prompt = PromptTemplate.prompt_template(prompt_template)"
   ]
  },
  {
   "cell_type": "code",
   "execution_count": 13,
   "metadata": {},
   "outputs": [
    {
     "data": {
      "text/plain": [
       "'According to the 2024 State of the Union address, Putin of Russia invaded Ukraine.'"
      ]
     },
     "execution_count": 13,
     "metadata": {},
     "output_type": "execute_result"
    }
   ],
   "source": [
    "# imports\n",
    "from langchain_core.output_parsers import StrOutputParser\n",
    "from langchain_core.runnables import RunnablePassthrough\n",
    "\n",
    "# Create the RAG Chain\n",
    "rag_chain = (\n",
    "    {\"context\": retriever | format_docs, \"query\": RunnablePassthrough()}\n",
    "    | custom_rag_prompt\n",
    "    | llm\n",
    "    | StrOutputParser()\n",
    ")\n",
    "\n",
    "# Query the RAG Chain\n",
    "rag_chain.invoke(\n",
    "  \"According to the 2024 state of the union address, Who invaded Ukraine?\"\n",
    ")"
   ]
  },
  {
   "cell_type": "code",
   "execution_count": 14,
   "metadata": {},
   "outputs": [
    {
     "data": {
      "text/plain": [
       "\"I'm sorry, but I do not know the answer to your question based on the context provided.\""
      ]
     },
     "execution_count": 14,
     "metadata": {},
     "output_type": "execute_result"
    }
   ],
   "source": [
    "# Get an I don't know from the Model\n",
    "rag_chain.invoke(\"What is the purpose of life?\")"
   ]
  },
  {
   "cell_type": "code",
   "execution_count": null,
   "metadata": {},
   "outputs": [],
   "source": []
  }
 ],
 "metadata": {
  "kernelspec": {
   "display_name": "rag_model",
   "language": "python",
   "name": "python3"
  },
  "language_info": {
   "codemirror_mode": {
    "name": "ipython",
    "version": 3
   },
   "file_extension": ".py",
   "mimetype": "text/x-python",
   "name": "python",
   "nbconvert_exporter": "python",
   "pygments_lexer": "ipython3",
   "version": "3.11.9"
  }
 },
 "nbformat": 4,
 "nbformat_minor": 2
}
